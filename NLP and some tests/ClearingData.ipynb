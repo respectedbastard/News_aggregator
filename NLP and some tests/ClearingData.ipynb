{
  "nbformat": 4,
  "nbformat_minor": 0,
  "metadata": {
    "colab": {
      "provenance": []
    },
    "kernelspec": {
      "name": "python3",
      "display_name": "Python 3"
    },
    "language_info": {
      "name": "python"
    }
  },
  "cells": [
    {
      "cell_type": "code",
      "source": [
        "import pandas as pd\n",
        "import re"
      ],
      "metadata": {
        "id": "NNIOQmRMzkx6"
      },
      "execution_count": null,
      "outputs": []
    },
    {
      "cell_type": "code",
      "execution_count": null,
      "metadata": {
        "id": "OhQQq1ptzG6P"
      },
      "outputs": [],
      "source": [
        "clear_df = pd.read_csv('/content/news.csv', encoding='utf8').astype(str)"
      ]
    },
    {
      "cell_type": "code",
      "source": [
        "to_drop = ['source', 'title', 'publication_date', 'tags', 'subrubric']\n",
        "\n",
        "clear_df.drop(to_drop, inplace=True, axis=1)\n",
        "clear_df.head(3)"
      ],
      "metadata": {
        "id": "mn2Owxiy03CB"
      },
      "execution_count": null,
      "outputs": []
    },
    {
      "cell_type": "code",
      "source": [
        "clear_df = clear_df.set_index('rubric')\n",
        "\n",
        "clear_df.drop(index=['nan', 'Из жизни', 'Интернет и СМИ', 'Дом', 'Бывший СССР', '69-я параллель',\n",
        "                     'Мир', 'Россия', 'Нацпроекты', 'Силовые структуры', 'Ценности'], axis = 0, inplace = True)"
      ],
      "metadata": {
        "id": "EduAo3t51BAA"
      },
      "execution_count": null,
      "outputs": []
    },
    {
      "cell_type": "code",
      "source": [
        "clear_df = clear_df.reset_index()"
      ],
      "metadata": {
        "id": "mTFZxluk2Y8A"
      },
      "execution_count": null,
      "outputs": []
    },
    {
      "cell_type": "code",
      "source": [
        "clear_df.to_csv('news_check.csv', index=False)"
      ],
      "metadata": {
        "id": "Y7AuTXbLF-Hp"
      },
      "execution_count": null,
      "outputs": []
    }
  ]
}